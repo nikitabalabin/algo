{
 "cells": [
  {
   "cell_type": "markdown",
   "metadata": {},
   "source": [
    "**Общая информация**\n",
    "\n",
    "**Срок сдачи:** 20 марта 2019, 06:00 <br\\>\n",
    "**Штраф за опоздание:** -1 балл после 06:00 20 марта, -2 балла после 06:00 27 марта, -3 балла после 06:00 3 апреля\n",
    "\n",
    "При отправлении ДЗ указывайте фамилию в названии файла\n",
    "Присылать ДЗ необходимо в виде ссылки на свой github репозиторий в slack @alkhamush\n",
    "\n",
    "Необходимо в slack скинуть ссылку в личный чат @alkhamush\n",
    "Пример ссылки:\n",
    "https://github.com/stroykova/spheremailru/stroykova_hw1.ipynb \n",
    "\n",
    "\n",
    "Используйте данный Ipython Notebook при оформлении домашнего задания."
   ]
  },
  {
   "cell_type": "markdown",
   "metadata": {},
   "source": [
    "###### Задание 1 (2 баллов)\n",
    "Реализовать KNN в классе MyKNeighborsClassifier (обязательное условие: точность не ниже sklearn реализации)\n",
    "Разберитесь самостоятельно, какая мера расстояния используется в KNeighborsClassifier дефолтно и реализуйте свой алгоритм именно с этой мерой. Самостоятельно разберитесь, как считается score из KNeighborsClassifier и реализуйте аналог в своём классе. Score не должен уступать значению KNN из sklearn\n",
    "\n",
    "###### Задание 2 (2 балла)\n",
    "Добиться скорости работы на fit,  predict и predict_proba сравнимой со sklearn для iris и mnist\n",
    "Для этого используем numpy\n",
    "\n",
    "###### Задание 3 (2 балла)\n",
    "Для iris найдите такой параметр n_neighbors, при котором выдаётся наилучший score. Нарисуйте график зависимости score от n_neighbors\n",
    "\n",
    "###### Задание 4 (3 балла)\n",
    "Добавить algorithm='kd_tree' в реализацию KNN (использовать KDTree из sklearn.neighbors). Значение n_neighbors нужно взять из задания 3. Добиться скорости работы на fit,  predict и predict_proba сравнимой со sklearn для iris и mnist\n",
    "Для этого используем numpy. Score не должен уступать значению KNN из sklearn\n",
    "\n",
    "###### Задание 5 (1 балла)\n",
    "Описать для чего нужны следующие библиотеки/классы/функции (список будет ниже)\n",
    "\n",
    "**Штрафные баллы:**\n",
    "\n",
    "1. Невыполнение PEP8 -1 балл\n",
    "2. Отсутствие фамилии в имени скрипта (скрипт должен называться по аналогии со stroykova_hw1.ipynb) -1 балл\n",
    "3. Все строчки должны быть выполнены. Нужно, чтобы output команды можно было увидеть уже в git'е. В противном случае -1 балл\n",
    "4. При оформлении ДЗ нужно пользоваться данным файлом в качестве шаблона. Не нужно удалять и видоизменять структуру кода и текст. В противном случае -1 балл\n"
   ]
  },
  {
   "cell_type": "code",
   "execution_count": 1,
   "metadata": {},
   "outputs": [],
   "source": [
    "import numpy as np\n",
    "import matplotlib.pyplot as plt\n",
    "\n",
    "import seaborn as sns\n",
    "from sklearn import datasets\n",
    "from sklearn.base import ClassifierMixin\n",
    "from sklearn.datasets import fetch_mldata\n",
    "from sklearn.neighbors.base import NeighborsBase, KNeighborsMixin, SupervisedIntegerMixin \n",
    "from sklearn.model_selection import train_test_split\n",
    "from sklearn.neighbors import KNeighborsClassifier\n",
    "%load_ext pycodestyle_magic"
   ]
  },
  {
   "cell_type": "code",
   "execution_count": 2,
   "metadata": {},
   "outputs": [],
   "source": [
    "# %%pycodestyle  \n",
    "# Закомментирован, так как в Jupyter noteebook всегда будет W391,\n",
    "# независимо от того, есть пустая строка или нет.\n",
    "\n",
    "# Импорт вспомагательных библиотек\n",
    "from sklearn.neighbors import KDTree\n",
    "from scipy.spatial.distance import cdist\n",
    "from scipy import stats\n",
    "\n",
    "\n",
    "class MyKNeighborsClassifier(NeighborsBase, KNeighborsMixin,\n",
    "                             SupervisedIntegerMixin):\n",
    "\n",
    "    def __init__(self, n_neighbors, algorithm='brute'):\n",
    "\n",
    "        self.n_neighbors = n_neighbors\n",
    "        self.algorithm = algorithm\n",
    "\n",
    "    def fit(self, X, y):\n",
    "\n",
    "        self.y_train = np.array(y)\n",
    "\n",
    "        if self.algorithm == 'brute':\n",
    "            self.X_train = np.array(X)\n",
    "        elif self.algorithm == 'kd_tree':\n",
    "            self.tree = KDTree(np.array(X), leaf_size=30)\n",
    "\n",
    "    def predict(self, X):\n",
    "\n",
    "        if self.algorithm == 'brute':\n",
    "            n_ind = np.argsort(cdist(np.array(X), self.X_train),\n",
    "                               axis=1)[:, :self.n_neighbors]\n",
    "        elif self.algorithm == 'kd_tree':\n",
    "            n_ind = self.tree.query(np.array(X), k=self.n_neighbors,\n",
    "                                    return_distance=False)\n",
    "\n",
    "        y_pred = stats.mode(self.y_train[n_ind], axis=1)[0].reshape(-1)\n",
    "\n",
    "        return y_pred\n",
    "\n",
    "    def predict_proba(self, X):\n",
    "\n",
    "        if self.algorithm == 'brute':\n",
    "            n_ind = np.argsort(cdist(np.array(X), self.X_train),\n",
    "                               axis=1)[:, :self.n_neighbors]\n",
    "        elif self.algorithm == 'kd_tree':\n",
    "            n_ind = self.tree.query(np.array(X), k=self.n_neighbors,\n",
    "                                    return_distance=False)\n",
    "\n",
    "        labels = np.unique(self.y_train)\n",
    "        y_pred = np.zeros((X.shape[0], labels.shape[0]), dtype='float64')\n",
    "\n",
    "        for i in labels:\n",
    "            y_pred[:, i] = np.sum(self.y_train[n_ind] == i, axis=1)\n",
    "\n",
    "        return y_pred / self.n_neighbors\n",
    "\n",
    "    def score(self, X, y):\n",
    "\n",
    "        return np.mean(self.predict(X) == np.array(y))\n"
   ]
  },
  {
   "cell_type": "markdown",
   "metadata": {},
   "source": [
    "**IRIS**"
   ]
  },
  {
   "cell_type": "code",
   "execution_count": 3,
   "metadata": {},
   "outputs": [],
   "source": [
    "iris = datasets.load_iris()"
   ]
  },
  {
   "cell_type": "code",
   "execution_count": 4,
   "metadata": {},
   "outputs": [],
   "source": [
    "X_train, X_test, y_train, y_test = train_test_split(iris.data, iris.target, test_size=0.1, stratify=iris.target)"
   ]
  },
  {
   "cell_type": "code",
   "execution_count": 5,
   "metadata": {},
   "outputs": [],
   "source": [
    "clf = KNeighborsClassifier(n_neighbors=2)\n",
    "my_clf = MyKNeighborsClassifier(n_neighbors=2)"
   ]
  },
  {
   "cell_type": "code",
   "execution_count": 6,
   "metadata": {},
   "outputs": [
    {
     "name": "stdout",
     "output_type": "stream",
     "text": [
      "CPU times: user 1.81 ms, sys: 354 µs, total: 2.16 ms\n",
      "Wall time: 1.97 ms\n"
     ]
    },
    {
     "data": {
      "text/plain": [
       "KNeighborsClassifier(algorithm='auto', leaf_size=30, metric='minkowski',\n",
       "           metric_params=None, n_jobs=None, n_neighbors=2, p=2,\n",
       "           weights='uniform')"
      ]
     },
     "execution_count": 6,
     "metadata": {},
     "output_type": "execute_result"
    }
   ],
   "source": [
    "%time clf.fit(X_train, y_train)"
   ]
  },
  {
   "cell_type": "code",
   "execution_count": 7,
   "metadata": {},
   "outputs": [
    {
     "name": "stdout",
     "output_type": "stream",
     "text": [
      "CPU times: user 44 µs, sys: 49 µs, total: 93 µs\n",
      "Wall time: 67.7 µs\n"
     ]
    }
   ],
   "source": [
    "%time my_clf.fit(X_train, y_train)"
   ]
  },
  {
   "cell_type": "code",
   "execution_count": 8,
   "metadata": {},
   "outputs": [
    {
     "name": "stdout",
     "output_type": "stream",
     "text": [
      "CPU times: user 1.57 ms, sys: 222 µs, total: 1.8 ms\n",
      "Wall time: 1.65 ms\n"
     ]
    },
    {
     "data": {
      "text/plain": [
       "array([0, 2, 1, 2, 1, 0, 0, 0, 1, 1, 1, 1, 0, 2, 2])"
      ]
     },
     "execution_count": 8,
     "metadata": {},
     "output_type": "execute_result"
    }
   ],
   "source": [
    "%time clf.predict(X_test)"
   ]
  },
  {
   "cell_type": "code",
   "execution_count": 9,
   "metadata": {},
   "outputs": [
    {
     "name": "stdout",
     "output_type": "stream",
     "text": [
      "CPU times: user 1.06 ms, sys: 705 µs, total: 1.76 ms\n",
      "Wall time: 958 µs\n"
     ]
    },
    {
     "data": {
      "text/plain": [
       "array([0, 2, 1, 2, 1, 0, 0, 0, 1, 1, 1, 1, 0, 2, 2])"
      ]
     },
     "execution_count": 9,
     "metadata": {},
     "output_type": "execute_result"
    }
   ],
   "source": [
    "%time my_clf.predict(X_test)"
   ]
  },
  {
   "cell_type": "code",
   "execution_count": 10,
   "metadata": {},
   "outputs": [
    {
     "name": "stdout",
     "output_type": "stream",
     "text": [
      "CPU times: user 1.83 ms, sys: 646 µs, total: 2.47 ms\n",
      "Wall time: 2.17 ms\n"
     ]
    },
    {
     "data": {
      "text/plain": [
       "array([[1. , 0. , 0. ],\n",
       "       [0. , 0. , 1. ],\n",
       "       [0. , 1. , 0. ],\n",
       "       [0. , 0. , 1. ],\n",
       "       [0. , 0.5, 0.5],\n",
       "       [1. , 0. , 0. ],\n",
       "       [1. , 0. , 0. ],\n",
       "       [1. , 0. , 0. ],\n",
       "       [0. , 1. , 0. ],\n",
       "       [0. , 1. , 0. ],\n",
       "       [0. , 1. , 0. ],\n",
       "       [0. , 1. , 0. ],\n",
       "       [1. , 0. , 0. ],\n",
       "       [0. , 0. , 1. ],\n",
       "       [0. , 0. , 1. ]])"
      ]
     },
     "execution_count": 10,
     "metadata": {},
     "output_type": "execute_result"
    }
   ],
   "source": [
    "%time clf.predict_proba(X_test)"
   ]
  },
  {
   "cell_type": "code",
   "execution_count": 11,
   "metadata": {},
   "outputs": [
    {
     "name": "stdout",
     "output_type": "stream",
     "text": [
      "CPU times: user 962 µs, sys: 582 µs, total: 1.54 ms\n",
      "Wall time: 831 µs\n"
     ]
    },
    {
     "data": {
      "text/plain": [
       "array([[1. , 0. , 0. ],\n",
       "       [0. , 0. , 1. ],\n",
       "       [0. , 1. , 0. ],\n",
       "       [0. , 0. , 1. ],\n",
       "       [0. , 0.5, 0.5],\n",
       "       [1. , 0. , 0. ],\n",
       "       [1. , 0. , 0. ],\n",
       "       [1. , 0. , 0. ],\n",
       "       [0. , 1. , 0. ],\n",
       "       [0. , 1. , 0. ],\n",
       "       [0. , 1. , 0. ],\n",
       "       [0. , 1. , 0. ],\n",
       "       [1. , 0. , 0. ],\n",
       "       [0. , 0. , 1. ],\n",
       "       [0. , 0. , 1. ]])"
      ]
     },
     "execution_count": 11,
     "metadata": {},
     "output_type": "execute_result"
    }
   ],
   "source": [
    "%time my_clf.predict_proba(X_test)"
   ]
  },
  {
   "cell_type": "code",
   "execution_count": 12,
   "metadata": {},
   "outputs": [
    {
     "data": {
      "text/plain": [
       "0.9333333333333333"
      ]
     },
     "execution_count": 12,
     "metadata": {},
     "output_type": "execute_result"
    }
   ],
   "source": [
    "clf.score(X_test, y_test)"
   ]
  },
  {
   "cell_type": "code",
   "execution_count": 13,
   "metadata": {},
   "outputs": [
    {
     "data": {
      "text/plain": [
       "0.9333333333333333"
      ]
     },
     "execution_count": 13,
     "metadata": {},
     "output_type": "execute_result"
    }
   ],
   "source": [
    "my_clf.score(X_test, y_test)"
   ]
  },
  {
   "cell_type": "markdown",
   "metadata": {},
   "source": [
    "Задание 3"
   ]
  },
  {
   "cell_type": "markdown",
   "metadata": {},
   "source": [
    "Для поиска лучшего значения параметра 'n_neighbors' проведем на тренировочном датасете кросс-валидацию с повторениями.\n",
    "Так как алгоритм метрический, то для лучшей его работы данные будут отмасштабированы до отрезка [0,1]."
   ]
  },
  {
   "cell_type": "code",
   "execution_count": 14,
   "metadata": {},
   "outputs": [],
   "source": [
    "# Импорт вспомагательных библиотек\n",
    "from sklearn.model_selection import RepeatedStratifiedKFold\n",
    "from sklearn.preprocessing import MinMaxScaler"
   ]
  },
  {
   "cell_type": "code",
   "execution_count": 15,
   "metadata": {},
   "outputs": [
    {
     "data": {
      "image/png": "[encoded data removed]",
      "text/plain": [
       "<Figure size 432x288 with 1 Axes>"
      ]
     },
     "metadata": {
      "needs_background": "light"
     },
     "output_type": "display_data"
    },
    {
     "name": "stdout",
     "output_type": "stream",
     "text": [
      "Best n_neighbors: 12\n",
      "Train_score: 0.9651851851851846\n",
      "Test_score: 1.0\n"
     ]
    }
   ],
   "source": [
    "\n",
    "scr = MinMaxScaler()\n",
    "n_splits, n_repeats = 5, 20\n",
    "counts = n_splits * n_repeats\n",
    "rskf = RepeatedStratifiedKFold(n_splits=n_splits,\n",
    "                               n_repeats=n_repeats, random_state=0)\n",
    "neighbors = np.arange(1, 21)\n",
    "scores = np.array([])\n",
    "\n",
    "for k in neighbors:\n",
    "    knn = MyKNeighborsClassifier(n_neighbors=k)\n",
    "    acc = 0\n",
    "    for train_index, test_index in rskf.split(X_train, y_train):\n",
    "        train, test = X_train[train_index], X_train[test_index]\n",
    "        train = scr.fit_transform(train)\n",
    "        test = scr.transform(test)\n",
    "        train_y, test_y = y_train[train_index], y_train[test_index]\n",
    "        knn.fit(train, train_y)\n",
    "        acc += knn.score(test, test_y)\n",
    "    scores = np.append(scores, acc)\n",
    "scores /= counts\n",
    "\n",
    "best_iter = np.argmax(np.array(scores))\n",
    "best_param = neighbors[best_iter]\n",
    "best_score = scores[best_iter]\n",
    "\n",
    "plt.plot(neighbors, scores, color='blue')\n",
    "plt.plot(best_param, best_score, 'ro',\n",
    "         label='n_neighbors: {}\\nscore: {:.6}'.format(best_param, best_score))\n",
    "plt.xticks(neighbors)\n",
    "plt.xlabel('n_neighbors')\n",
    "plt.ylabel('score')\n",
    "plt.legend()\n",
    "plt.show()\n",
    "\n",
    "print('Best n_neighbors: {}'.format(best_param))\n",
    "print('Train_score: {}'.format(best_score))\n",
    "\n",
    "# Проверка на тестовой выборке\n",
    "knn = MyKNeighborsClassifier(n_neighbors=best_param)\n",
    "knn.fit(scr.fit_transform(X_train), y_train)\n",
    "print('Test_score: {}'.format(knn.score(scr.transform(X_test), y_test)))\n"
   ]
  },
  {
   "cell_type": "markdown",
   "metadata": {},
   "source": [
    "**MNIST**"
   ]
  },
  {
   "cell_type": "code",
   "execution_count": 16,
   "metadata": {},
   "outputs": [],
   "source": [
    "# mnist = fetch_mldata('MNIST original')  # не работает\n",
    "\n",
    "from sklearn.datasets import fetch_openml\n",
    "\n",
    "mnist = fetch_openml('mnist_784', cache=True)\n",
    "mnist.target = mnist.target.astype('int8')"
   ]
  },
  {
   "cell_type": "code",
   "execution_count": 17,
   "metadata": {},
   "outputs": [],
   "source": [
    "X_train, X_test, y_train, y_test = train_test_split(mnist.data, mnist.target, test_size=0.01, stratify=mnist.target)"
   ]
  },
  {
   "cell_type": "code",
   "execution_count": 18,
   "metadata": {},
   "outputs": [],
   "source": [
    "clf = KNeighborsClassifier(n_neighbors=2)\n",
    "my_clf = MyKNeighborsClassifier(n_neighbors=2)"
   ]
  },
  {
   "cell_type": "code",
   "execution_count": 19,
   "metadata": {},
   "outputs": [
    {
     "name": "stdout",
     "output_type": "stream",
     "text": [
      "CPU times: user 1min 23s, sys: 639 ms, total: 1min 24s\n",
      "Wall time: 1min 24s\n"
     ]
    },
    {
     "data": {
      "text/plain": [
       "KNeighborsClassifier(algorithm='auto', leaf_size=30, metric='minkowski',\n",
       "           metric_params=None, n_jobs=None, n_neighbors=2, p=2,\n",
       "           weights='uniform')"
      ]
     },
     "execution_count": 19,
     "metadata": {},
     "output_type": "execute_result"
    }
   ],
   "source": [
    "%time clf.fit(X_train, y_train)"
   ]
  },
  {
   "cell_type": "code",
   "execution_count": 20,
   "metadata": {},
   "outputs": [
    {
     "name": "stdout",
     "output_type": "stream",
     "text": [
      "CPU times: user 242 ms, sys: 303 ms, total: 545 ms\n",
      "Wall time: 659 ms\n"
     ]
    }
   ],
   "source": [
    "%time my_clf.fit(X_train, y_train)"
   ]
  },
  {
   "cell_type": "code",
   "execution_count": 21,
   "metadata": {},
   "outputs": [
    {
     "name": "stdout",
     "output_type": "stream",
     "text": [
      "CPU times: user 1min 9s, sys: 236 ms, total: 1min 9s\n",
      "Wall time: 1min 9s\n"
     ]
    },
    {
     "data": {
      "text/plain": [
       "array([5, 6, 1, 7, 4, 6, 4, 3, 7, 1, 9, 7, 1, 1, 1, 9, 0, 4, 1, 9, 6, 2,\n",
       "       7, 1, 0, 1, 1, 8, 1, 1, 9, 3, 6, 3, 9, 6, 4, 8, 7, 0, 3, 3, 1, 7,\n",
       "       7, 2, 9, 0, 7, 0, 5, 1, 4, 0, 7, 3, 5, 6, 2, 5, 0, 4, 3, 2, 1, 5,\n",
       "       6, 8, 5, 3, 4, 3, 6, 2, 1, 9, 3, 1, 3, 7, 0, 6, 0, 6, 8, 3, 5, 1,\n",
       "       3, 1, 3, 4, 2, 8, 2, 5, 5, 8, 0, 6, 6, 0, 1, 6, 7, 1, 8, 8, 4, 5,\n",
       "       8, 6, 1, 9, 3, 9, 2, 9, 6, 1, 5, 9, 6, 5, 6, 6, 3, 6, 7, 1, 4, 1,\n",
       "       9, 0, 2, 8, 6, 1, 7, 1, 7, 8, 7, 7, 2, 1, 0, 1, 0, 7, 9, 3, 9, 1,\n",
       "       0, 5, 2, 8, 4, 7, 1, 8, 6, 9, 8, 8, 8, 1, 6, 7, 6, 5, 7, 7, 4, 4,\n",
       "       0, 4, 6, 9, 2, 3, 6, 6, 3, 8, 2, 6, 8, 9, 9, 7, 5, 7, 4, 1, 8, 3,\n",
       "       6, 2, 3, 1, 4, 4, 7, 1, 0, 0, 0, 0, 2, 2, 6, 3, 3, 5, 1, 0, 5, 4,\n",
       "       1, 9, 6, 4, 3, 0, 2, 6, 5, 0, 5, 9, 9, 2, 2, 3, 8, 1, 9, 2, 7, 0,\n",
       "       6, 5, 8, 6, 7, 4, 7, 8, 5, 2, 7, 4, 1, 4, 7, 4, 9, 0, 6, 7, 0, 4,\n",
       "       9, 2, 0, 2, 9, 7, 4, 5, 3, 3, 0, 2, 0, 1, 6, 5, 0, 3, 3, 0, 6, 3,\n",
       "       1, 2, 1, 1, 7, 0, 8, 0, 1, 3, 9, 4, 2, 7, 5, 1, 5, 7, 2, 6, 4, 4,\n",
       "       6, 2, 9, 8, 4, 1, 7, 0, 8, 1, 8, 0, 1, 9, 0, 8, 3, 3, 1, 7, 2, 0,\n",
       "       9, 8, 9, 5, 3, 6, 3, 2, 2, 8, 4, 0, 3, 0, 7, 5, 1, 9, 3, 0, 7, 5,\n",
       "       5, 8, 4, 1, 0, 4, 9, 4, 4, 3, 8, 0, 2, 5, 5, 8, 2, 8, 2, 0, 0, 6,\n",
       "       2, 2, 5, 1, 7, 0, 0, 4, 5, 8, 1, 3, 3, 8, 8, 3, 4, 9, 0, 3, 3, 6,\n",
       "       8, 4, 7, 9, 3, 9, 4, 4, 1, 0, 9, 8, 8, 3, 5, 3, 7, 6, 4, 9, 0, 3,\n",
       "       2, 1, 2, 8, 0, 7, 3, 8, 7, 4, 8, 7, 5, 1, 5, 2, 3, 6, 2, 8, 3, 7,\n",
       "       0, 2, 5, 3, 1, 9, 7, 4, 3, 1, 2, 9, 6, 2, 5, 5, 9, 9, 9, 2, 9, 3,\n",
       "       3, 6, 1, 7, 8, 3, 2, 3, 1, 8, 5, 7, 0, 0, 9, 8, 5, 6, 0, 8, 2, 4,\n",
       "       9, 2, 3, 7, 9, 0, 1, 2, 5, 0, 2, 9, 6, 3, 1, 7, 2, 4, 5, 5, 9, 7,\n",
       "       1, 8, 4, 7, 2, 0, 3, 0, 0, 9, 7, 3, 0, 7, 7, 7, 9, 7, 4, 2, 7, 0,\n",
       "       3, 0, 1, 7, 2, 7, 1, 8, 8, 6, 4, 6, 1, 0, 8, 2, 5, 1, 6, 7, 0, 8,\n",
       "       1, 4, 5, 1, 6, 5, 2, 4, 5, 6, 4, 2, 5, 3, 4, 6, 2, 5, 3, 7, 8, 8,\n",
       "       3, 7, 4, 1, 9, 3, 9, 2, 4, 3, 2, 5, 9, 0, 1, 9, 0, 7, 2, 6, 1, 1,\n",
       "       5, 2, 5, 9, 8, 4, 3, 2, 4, 3, 1, 9, 1, 6, 2, 4, 2, 9, 6, 2, 1, 9,\n",
       "       0, 9, 6, 4, 9, 1, 9, 4, 8, 2, 9, 3, 1, 0, 2, 6, 1, 9, 3, 8, 7, 4,\n",
       "       4, 7, 5, 6, 6, 7, 5, 4, 7, 9, 3, 6, 7, 4, 4, 7, 2, 4, 2, 7, 4, 5,\n",
       "       8, 1, 8, 3, 0, 4, 3, 1, 7, 6, 9, 0, 5, 0, 3, 4, 6, 4, 1, 2, 8, 0,\n",
       "       9, 9, 5, 3, 0, 5, 5, 6, 6, 0, 7, 3, 6, 4, 5, 0, 4, 6], dtype=int8)"
      ]
     },
     "execution_count": 21,
     "metadata": {},
     "output_type": "execute_result"
    }
   ],
   "source": [
    "%time clf.predict(X_test)"
   ]
  },
  {
   "cell_type": "code",
   "execution_count": 22,
   "metadata": {},
   "outputs": [
    {
     "name": "stdout",
     "output_type": "stream",
     "text": [
      "CPU times: user 52.3 s, sys: 1.81 s, total: 54.1 s\n",
      "Wall time: 54.6 s\n"
     ]
    },
    {
     "data": {
      "text/plain": [
       "array([5, 6, 1, 7, 4, 6, 4, 3, 7, 1, 9, 7, 1, 1, 1, 9, 0, 4, 1, 9, 6, 2,\n",
       "       7, 1, 0, 1, 1, 8, 1, 1, 9, 3, 6, 3, 9, 6, 4, 8, 7, 0, 3, 3, 1, 7,\n",
       "       7, 2, 9, 0, 7, 0, 5, 1, 4, 0, 7, 3, 5, 6, 2, 5, 0, 4, 3, 2, 1, 5,\n",
       "       6, 8, 5, 3, 4, 3, 6, 2, 1, 9, 3, 1, 3, 7, 0, 6, 0, 6, 8, 3, 5, 1,\n",
       "       3, 1, 3, 4, 2, 8, 2, 5, 5, 8, 0, 6, 6, 0, 1, 6, 7, 1, 8, 8, 4, 5,\n",
       "       8, 6, 1, 9, 3, 9, 2, 9, 6, 1, 5, 9, 6, 5, 6, 6, 3, 6, 7, 1, 4, 1,\n",
       "       9, 0, 2, 8, 6, 1, 7, 1, 7, 8, 7, 7, 2, 1, 0, 1, 0, 7, 9, 3, 9, 1,\n",
       "       0, 5, 2, 8, 4, 7, 1, 8, 6, 9, 8, 8, 8, 1, 6, 7, 6, 5, 7, 7, 4, 4,\n",
       "       0, 4, 6, 9, 2, 3, 6, 6, 3, 8, 2, 6, 8, 9, 9, 7, 5, 7, 4, 1, 8, 3,\n",
       "       6, 2, 3, 1, 4, 4, 7, 1, 0, 0, 0, 0, 2, 2, 6, 3, 3, 5, 1, 0, 5, 4,\n",
       "       1, 9, 6, 4, 3, 0, 2, 6, 5, 0, 5, 9, 9, 2, 2, 3, 8, 1, 9, 2, 7, 0,\n",
       "       6, 5, 8, 6, 7, 4, 7, 8, 5, 2, 7, 4, 1, 4, 7, 4, 9, 0, 6, 7, 0, 4,\n",
       "       9, 2, 0, 2, 9, 7, 4, 5, 3, 3, 0, 2, 0, 1, 6, 5, 0, 3, 3, 0, 6, 3,\n",
       "       1, 2, 1, 1, 7, 0, 8, 0, 1, 3, 9, 4, 2, 7, 5, 1, 5, 7, 2, 6, 4, 4,\n",
       "       6, 2, 9, 8, 4, 1, 7, 0, 8, 1, 8, 0, 1, 9, 0, 8, 3, 3, 1, 7, 2, 0,\n",
       "       9, 8, 9, 5, 3, 6, 3, 2, 2, 8, 4, 0, 3, 0, 7, 5, 1, 9, 3, 0, 7, 5,\n",
       "       5, 8, 4, 1, 0, 4, 9, 4, 4, 3, 8, 0, 2, 5, 5, 8, 2, 8, 2, 0, 0, 6,\n",
       "       2, 2, 5, 1, 7, 0, 0, 4, 5, 8, 1, 3, 3, 8, 8, 3, 4, 9, 0, 3, 3, 6,\n",
       "       8, 4, 7, 9, 3, 9, 4, 4, 1, 0, 9, 8, 8, 3, 5, 3, 7, 6, 4, 9, 0, 3,\n",
       "       2, 1, 2, 8, 0, 7, 3, 8, 7, 4, 8, 7, 5, 1, 5, 2, 3, 6, 2, 8, 3, 7,\n",
       "       0, 2, 5, 3, 1, 9, 7, 4, 3, 1, 2, 9, 6, 2, 5, 5, 9, 9, 9, 2, 9, 3,\n",
       "       3, 6, 1, 7, 8, 3, 2, 3, 1, 8, 5, 7, 0, 0, 9, 8, 5, 6, 0, 8, 2, 4,\n",
       "       9, 2, 3, 7, 9, 0, 1, 2, 5, 0, 2, 9, 6, 3, 1, 7, 2, 4, 5, 5, 9, 7,\n",
       "       1, 8, 4, 7, 2, 0, 3, 0, 0, 9, 7, 3, 0, 7, 7, 7, 9, 7, 4, 2, 7, 0,\n",
       "       3, 0, 1, 7, 2, 7, 1, 8, 8, 6, 4, 6, 1, 0, 8, 2, 5, 1, 6, 7, 0, 8,\n",
       "       1, 4, 5, 1, 6, 5, 2, 4, 5, 6, 4, 2, 5, 3, 4, 6, 2, 5, 3, 7, 8, 8,\n",
       "       3, 7, 4, 1, 9, 3, 9, 2, 4, 3, 2, 5, 9, 0, 1, 9, 0, 7, 2, 6, 1, 1,\n",
       "       5, 2, 5, 9, 8, 4, 3, 2, 4, 3, 1, 9, 1, 6, 2, 4, 2, 9, 6, 2, 1, 9,\n",
       "       0, 9, 6, 4, 9, 1, 9, 4, 8, 2, 9, 3, 1, 0, 2, 6, 1, 9, 3, 8, 7, 4,\n",
       "       4, 7, 5, 6, 6, 7, 5, 4, 7, 9, 3, 6, 7, 4, 4, 7, 2, 4, 2, 7, 4, 5,\n",
       "       8, 1, 8, 3, 0, 4, 3, 1, 7, 6, 9, 0, 5, 0, 3, 4, 6, 4, 1, 2, 8, 0,\n",
       "       9, 9, 5, 3, 0, 5, 5, 6, 6, 0, 7, 3, 6, 4, 5, 0, 4, 6], dtype=int8)"
      ]
     },
     "execution_count": 22,
     "metadata": {},
     "output_type": "execute_result"
    }
   ],
   "source": [
    "%time my_clf.predict(X_test)"
   ]
  },
  {
   "cell_type": "code",
   "execution_count": 23,
   "metadata": {},
   "outputs": [
    {
     "name": "stdout",
     "output_type": "stream",
     "text": [
      "CPU times: user 1min 20s, sys: 1.4 s, total: 1min 21s\n",
      "Wall time: 1min 28s\n"
     ]
    },
    {
     "data": {
      "text/plain": [
       "array([[0., 0., 0., ..., 0., 0., 0.],\n",
       "       [0., 0., 0., ..., 0., 0., 0.],\n",
       "       [0., 1., 0., ..., 0., 0., 0.],\n",
       "       ...,\n",
       "       [1., 0., 0., ..., 0., 0., 0.],\n",
       "       [0., 0., 0., ..., 0., 0., 0.],\n",
       "       [0., 0., 0., ..., 0., 0., 0.]])"
      ]
     },
     "execution_count": 23,
     "metadata": {},
     "output_type": "execute_result"
    }
   ],
   "source": [
    "%time clf.predict_proba(X_test)"
   ]
  },
  {
   "cell_type": "code",
   "execution_count": 24,
   "metadata": {},
   "outputs": [
    {
     "name": "stdout",
     "output_type": "stream",
     "text": [
      "CPU times: user 56.1 s, sys: 2.36 s, total: 58.5 s\n",
      "Wall time: 1min\n"
     ]
    },
    {
     "data": {
      "text/plain": [
       "array([[0., 0., 0., ..., 0., 0., 0.],\n",
       "       [0., 0., 0., ..., 0., 0., 0.],\n",
       "       [0., 1., 0., ..., 0., 0., 0.],\n",
       "       ...,\n",
       "       [1., 0., 0., ..., 0., 0., 0.],\n",
       "       [0., 0., 0., ..., 0., 0., 0.],\n",
       "       [0., 0., 0., ..., 0., 0., 0.]])"
      ]
     },
     "execution_count": 24,
     "metadata": {},
     "output_type": "execute_result"
    }
   ],
   "source": [
    "%time my_clf.predict_proba(X_test)"
   ]
  },
  {
   "cell_type": "code",
   "execution_count": 25,
   "metadata": {},
   "outputs": [
    {
     "data": {
      "text/plain": [
       "0.9671428571428572"
      ]
     },
     "execution_count": 25,
     "metadata": {},
     "output_type": "execute_result"
    }
   ],
   "source": [
    "clf.score(X_test, y_test)"
   ]
  },
  {
   "cell_type": "code",
   "execution_count": 26,
   "metadata": {},
   "outputs": [
    {
     "data": {
      "text/plain": [
       "0.9671428571428572"
      ]
     },
     "execution_count": 26,
     "metadata": {},
     "output_type": "execute_result"
    }
   ],
   "source": [
    "my_clf.score(X_test, y_test)"
   ]
  },
  {
   "cell_type": "markdown",
   "metadata": {},
   "source": [
    "Задание 4"
   ]
  },
  {
   "cell_type": "code",
   "execution_count": 27,
   "metadata": {},
   "outputs": [],
   "source": [
    "clf = KNeighborsClassifier(n_neighbors=2, algorithm='kd_tree')\n",
    "my_clf = MyKNeighborsClassifier(n_neighbors=2, algorithm='kd_tree')"
   ]
  },
  {
   "cell_type": "code",
   "execution_count": 28,
   "metadata": {},
   "outputs": [],
   "source": [
    "X_train, X_test, y_train, y_test = train_test_split(mnist.data, mnist.target, test_size=0.01, stratify=mnist.target)"
   ]
  },
  {
   "cell_type": "code",
   "execution_count": 29,
   "metadata": {},
   "outputs": [
    {
     "name": "stdout",
     "output_type": "stream",
     "text": [
      "CPU times: user 1min 31s, sys: 1.7 s, total: 1min 33s\n",
      "Wall time: 1min 38s\n"
     ]
    },
    {
     "data": {
      "text/plain": [
       "KNeighborsClassifier(algorithm='kd_tree', leaf_size=30, metric='minkowski',\n",
       "           metric_params=None, n_jobs=None, n_neighbors=2, p=2,\n",
       "           weights='uniform')"
      ]
     },
     "execution_count": 29,
     "metadata": {},
     "output_type": "execute_result"
    }
   ],
   "source": [
    "%time clf.fit(X_train, y_train)"
   ]
  },
  {
   "cell_type": "code",
   "execution_count": 30,
   "metadata": {},
   "outputs": [
    {
     "name": "stdout",
     "output_type": "stream",
     "text": [
      "CPU times: user 1min 29s, sys: 1.9 s, total: 1min 31s\n",
      "Wall time: 1min 32s\n"
     ]
    }
   ],
   "source": [
    "%time my_clf.fit(X_train, y_train)"
   ]
  },
  {
   "cell_type": "code",
   "execution_count": 31,
   "metadata": {},
   "outputs": [
    {
     "name": "stdout",
     "output_type": "stream",
     "text": [
      "CPU times: user 1min 15s, sys: 1.41 s, total: 1min 17s\n",
      "Wall time: 1min 19s\n"
     ]
    },
    {
     "data": {
      "text/plain": [
       "array([0, 9, 5, 7, 6, 3, 3, 6, 3, 1, 3, 9, 8, 4, 6, 3, 0, 0, 9, 9, 7, 9,\n",
       "       6, 0, 0, 3, 9, 3, 6, 0, 6, 4, 7, 9, 2, 1, 6, 3, 6, 9, 6, 3, 8, 1,\n",
       "       2, 5, 9, 1, 5, 5, 0, 7, 5, 5, 3, 1, 9, 0, 0, 3, 5, 7, 2, 8, 7, 9,\n",
       "       1, 1, 0, 4, 6, 7, 6, 0, 9, 1, 8, 9, 9, 0, 8, 3, 6, 7, 8, 2, 5, 3,\n",
       "       1, 2, 6, 3, 9, 7, 9, 8, 5, 5, 8, 6, 8, 6, 7, 5, 6, 6, 1, 3, 8, 2,\n",
       "       4, 6, 2, 3, 1, 5, 9, 4, 1, 0, 4, 2, 8, 2, 4, 3, 9, 2, 2, 2, 0, 2,\n",
       "       9, 9, 4, 9, 1, 3, 5, 2, 4, 7, 9, 1, 8, 4, 3, 0, 0, 7, 4, 7, 3, 2,\n",
       "       9, 7, 1, 2, 7, 1, 2, 4, 1, 9, 0, 1, 7, 6, 4, 3, 6, 9, 4, 6, 6, 6,\n",
       "       1, 2, 7, 5, 1, 0, 7, 0, 4, 3, 9, 2, 3, 3, 0, 9, 4, 7, 3, 0, 3, 7,\n",
       "       8, 1, 2, 2, 4, 6, 5, 3, 1, 9, 1, 3, 5, 0, 7, 3, 8, 2, 1, 0, 8, 9,\n",
       "       2, 6, 5, 4, 9, 3, 0, 1, 8, 7, 9, 1, 5, 5, 5, 4, 1, 1, 4, 4, 7, 0,\n",
       "       6, 0, 9, 7, 3, 9, 0, 8, 5, 7, 2, 4, 6, 9, 1, 9, 3, 3, 6, 8, 0, 2,\n",
       "       9, 8, 8, 3, 7, 0, 2, 5, 4, 0, 6, 1, 3, 2, 5, 2, 1, 9, 0, 9, 3, 5,\n",
       "       6, 6, 9, 1, 8, 6, 3, 8, 1, 1, 0, 4, 7, 1, 4, 6, 7, 3, 4, 6, 8, 6,\n",
       "       2, 6, 9, 5, 2, 0, 5, 2, 2, 0, 7, 4, 7, 8, 7, 3, 7, 1, 3, 2, 1, 2,\n",
       "       4, 7, 0, 1, 5, 1, 9, 6, 4, 6, 6, 6, 3, 7, 8, 3, 0, 1, 8, 5, 5, 2,\n",
       "       1, 4, 5, 7, 7, 0, 2, 3, 1, 0, 9, 8, 5, 9, 2, 7, 7, 0, 6, 0, 5, 2,\n",
       "       5, 8, 7, 3, 4, 4, 8, 9, 1, 2, 1, 4, 5, 2, 4, 3, 1, 7, 8, 3, 4, 3,\n",
       "       5, 8, 1, 1, 1, 9, 8, 2, 3, 3, 7, 8, 8, 1, 6, 4, 6, 1, 6, 3, 2, 9,\n",
       "       3, 6, 8, 4, 7, 7, 9, 8, 9, 7, 2, 5, 8, 6, 8, 1, 4, 4, 0, 1, 8, 7,\n",
       "       9, 3, 8, 4, 9, 1, 2, 3, 2, 1, 5, 3, 8, 8, 1, 4, 6, 7, 6, 7, 3, 8,\n",
       "       8, 9, 1, 5, 3, 7, 4, 3, 2, 8, 6, 7, 2, 4, 5, 8, 1, 6, 9, 1, 3, 7,\n",
       "       1, 1, 0, 4, 8, 5, 0, 3, 5, 7, 2, 2, 9, 5, 8, 9, 2, 7, 4, 2, 3, 1,\n",
       "       0, 4, 1, 7, 7, 0, 1, 0, 5, 3, 8, 3, 9, 5, 6, 8, 8, 2, 1, 7, 6, 6,\n",
       "       9, 7, 3, 4, 3, 8, 0, 9, 6, 7, 9, 7, 0, 5, 3, 4, 0, 5, 5, 2, 7, 4,\n",
       "       4, 4, 8, 6, 9, 8, 4, 6, 3, 4, 0, 8, 8, 0, 3, 1, 1, 4, 8, 0, 9, 4,\n",
       "       4, 4, 7, 1, 1, 5, 7, 9, 9, 7, 6, 3, 7, 1, 1, 2, 2, 7, 7, 7, 7, 5,\n",
       "       0, 3, 1, 0, 9, 4, 0, 2, 0, 2, 8, 2, 4, 6, 1, 7, 7, 4, 2, 3, 5, 0,\n",
       "       5, 0, 5, 4, 0, 5, 6, 2, 5, 6, 6, 1, 1, 1, 6, 4, 5, 4, 2, 1, 1, 2,\n",
       "       9, 0, 3, 2, 0, 0, 0, 8, 0, 5, 4, 8, 9, 5, 5, 2, 4, 3, 5, 8, 2, 2,\n",
       "       9, 1, 6, 6, 7, 1, 2, 1, 0, 4, 6, 5, 0, 7, 2, 7, 9, 0, 4, 3, 9, 7,\n",
       "       7, 1, 3, 7, 4, 3, 6, 4, 5, 3, 7, 2, 4, 1, 0, 0, 9, 6], dtype=int8)"
      ]
     },
     "execution_count": 31,
     "metadata": {},
     "output_type": "execute_result"
    }
   ],
   "source": [
    "%time clf.predict(X_test)"
   ]
  },
  {
   "cell_type": "code",
   "execution_count": 32,
   "metadata": {},
   "outputs": [
    {
     "name": "stdout",
     "output_type": "stream",
     "text": [
      "CPU times: user 1min 12s, sys: 1.11 s, total: 1min 13s\n",
      "Wall time: 1min 15s\n"
     ]
    },
    {
     "data": {
      "text/plain": [
       "array([0, 9, 5, 7, 6, 3, 3, 6, 3, 1, 3, 9, 8, 4, 6, 3, 0, 0, 9, 9, 7, 9,\n",
       "       6, 0, 0, 3, 9, 3, 6, 0, 6, 4, 7, 9, 2, 1, 6, 3, 6, 9, 6, 3, 8, 1,\n",
       "       2, 5, 9, 1, 5, 5, 0, 7, 5, 5, 3, 1, 9, 0, 0, 3, 5, 7, 2, 8, 7, 9,\n",
       "       1, 1, 0, 4, 6, 7, 6, 0, 9, 1, 8, 9, 9, 0, 8, 3, 6, 7, 8, 2, 5, 3,\n",
       "       1, 2, 6, 3, 9, 7, 9, 8, 5, 5, 8, 6, 8, 6, 7, 5, 6, 6, 1, 3, 8, 2,\n",
       "       4, 6, 2, 3, 1, 5, 9, 4, 1, 0, 4, 2, 8, 2, 4, 3, 9, 2, 2, 2, 0, 2,\n",
       "       9, 9, 4, 9, 1, 3, 5, 2, 4, 7, 9, 1, 8, 4, 3, 0, 0, 7, 4, 7, 3, 2,\n",
       "       9, 7, 1, 2, 7, 1, 2, 4, 1, 9, 0, 1, 7, 6, 4, 3, 6, 9, 4, 6, 6, 6,\n",
       "       1, 2, 7, 5, 1, 0, 7, 0, 4, 3, 9, 2, 3, 3, 0, 9, 4, 7, 3, 0, 3, 7,\n",
       "       8, 1, 2, 2, 4, 6, 5, 3, 1, 9, 1, 3, 5, 0, 7, 3, 8, 2, 1, 0, 8, 9,\n",
       "       2, 6, 5, 4, 9, 3, 0, 1, 8, 7, 9, 1, 5, 5, 5, 4, 1, 1, 4, 4, 7, 0,\n",
       "       6, 0, 9, 7, 3, 9, 0, 8, 5, 7, 2, 4, 6, 9, 1, 9, 3, 3, 6, 8, 0, 2,\n",
       "       9, 8, 8, 3, 7, 0, 2, 5, 4, 0, 6, 1, 3, 2, 5, 2, 1, 9, 0, 9, 3, 5,\n",
       "       6, 6, 9, 1, 8, 6, 3, 8, 1, 1, 0, 4, 7, 1, 4, 6, 7, 3, 4, 6, 8, 6,\n",
       "       2, 6, 9, 5, 2, 0, 5, 2, 2, 0, 7, 4, 7, 8, 7, 3, 7, 1, 3, 2, 1, 2,\n",
       "       4, 7, 0, 1, 5, 1, 9, 6, 4, 6, 6, 6, 3, 7, 8, 3, 0, 1, 8, 5, 5, 2,\n",
       "       1, 4, 5, 7, 7, 0, 2, 3, 1, 0, 9, 8, 5, 9, 2, 7, 7, 0, 6, 0, 5, 2,\n",
       "       5, 8, 7, 3, 4, 4, 8, 9, 1, 2, 1, 4, 5, 2, 4, 3, 1, 7, 8, 3, 4, 3,\n",
       "       5, 8, 1, 1, 1, 9, 8, 2, 3, 3, 7, 8, 8, 1, 6, 4, 6, 1, 6, 3, 2, 9,\n",
       "       3, 6, 8, 4, 7, 7, 9, 8, 9, 7, 2, 5, 8, 6, 8, 1, 4, 4, 0, 1, 8, 7,\n",
       "       9, 3, 8, 4, 9, 1, 2, 3, 2, 1, 5, 3, 8, 8, 1, 4, 6, 7, 6, 7, 3, 8,\n",
       "       8, 9, 1, 5, 3, 7, 4, 3, 2, 8, 6, 7, 2, 4, 5, 8, 1, 6, 9, 1, 3, 7,\n",
       "       1, 1, 0, 4, 8, 5, 0, 3, 5, 7, 2, 2, 9, 5, 8, 9, 2, 7, 4, 2, 3, 1,\n",
       "       0, 4, 1, 7, 7, 0, 1, 0, 5, 3, 8, 3, 9, 5, 6, 8, 8, 2, 1, 7, 6, 6,\n",
       "       9, 7, 3, 4, 3, 8, 0, 9, 6, 7, 9, 7, 0, 5, 3, 4, 0, 5, 5, 2, 7, 4,\n",
       "       4, 4, 8, 6, 9, 8, 4, 6, 3, 4, 0, 8, 8, 0, 3, 1, 1, 4, 8, 0, 9, 4,\n",
       "       4, 4, 7, 1, 1, 5, 7, 9, 9, 7, 6, 3, 7, 1, 1, 2, 2, 7, 7, 7, 7, 5,\n",
       "       0, 3, 1, 0, 9, 4, 0, 2, 0, 2, 8, 2, 4, 6, 1, 7, 7, 4, 2, 3, 5, 0,\n",
       "       5, 0, 5, 4, 0, 5, 6, 2, 5, 6, 6, 1, 1, 1, 6, 4, 5, 4, 2, 1, 1, 2,\n",
       "       9, 0, 3, 2, 0, 0, 0, 8, 0, 5, 4, 8, 9, 5, 5, 2, 4, 3, 5, 8, 2, 2,\n",
       "       9, 1, 6, 6, 7, 1, 2, 1, 0, 4, 6, 5, 0, 7, 2, 7, 9, 0, 4, 3, 9, 7,\n",
       "       7, 1, 3, 7, 4, 3, 6, 4, 5, 3, 7, 2, 4, 1, 0, 0, 9, 6], dtype=int8)"
      ]
     },
     "execution_count": 32,
     "metadata": {},
     "output_type": "execute_result"
    }
   ],
   "source": [
    "%time my_clf.predict(X_test)"
   ]
  },
  {
   "cell_type": "code",
   "execution_count": 33,
   "metadata": {},
   "outputs": [
    {
     "name": "stdout",
     "output_type": "stream",
     "text": [
      "CPU times: user 1min 12s, sys: 1.12 s, total: 1min 14s\n",
      "Wall time: 1min 15s\n"
     ]
    },
    {
     "data": {
      "text/plain": [
       "array([[1., 0., 0., ..., 0., 0., 0.],\n",
       "       [0., 0., 0., ..., 0., 0., 1.],\n",
       "       [0., 0., 0., ..., 0., 0., 0.],\n",
       "       ...,\n",
       "       [1., 0., 0., ..., 0., 0., 0.],\n",
       "       [0., 0., 0., ..., 0., 0., 1.],\n",
       "       [0., 0., 0., ..., 0., 0., 0.]])"
      ]
     },
     "execution_count": 33,
     "metadata": {},
     "output_type": "execute_result"
    }
   ],
   "source": [
    "%time clf.predict_proba(X_test)"
   ]
  },
  {
   "cell_type": "code",
   "execution_count": 34,
   "metadata": {},
   "outputs": [
    {
     "name": "stdout",
     "output_type": "stream",
     "text": [
      "CPU times: user 1min 16s, sys: 1.94 s, total: 1min 18s\n",
      "Wall time: 1min 24s\n"
     ]
    },
    {
     "data": {
      "text/plain": [
       "array([[1., 0., 0., ..., 0., 0., 0.],\n",
       "       [0., 0., 0., ..., 0., 0., 1.],\n",
       "       [0., 0., 0., ..., 0., 0., 0.],\n",
       "       ...,\n",
       "       [1., 0., 0., ..., 0., 0., 0.],\n",
       "       [0., 0., 0., ..., 0., 0., 1.],\n",
       "       [0., 0., 0., ..., 0., 0., 0.]])"
      ]
     },
     "execution_count": 34,
     "metadata": {},
     "output_type": "execute_result"
    }
   ],
   "source": [
    "%time my_clf.predict_proba(X_test)"
   ]
  },
  {
   "cell_type": "code",
   "execution_count": 35,
   "metadata": {},
   "outputs": [
    {
     "data": {
      "text/plain": [
       "0.9728571428571429"
      ]
     },
     "execution_count": 35,
     "metadata": {},
     "output_type": "execute_result"
    }
   ],
   "source": [
    "clf.score(X_test, y_test)"
   ]
  },
  {
   "cell_type": "code",
   "execution_count": 36,
   "metadata": {},
   "outputs": [
    {
     "data": {
      "text/plain": [
       "0.9728571428571429"
      ]
     },
     "execution_count": 36,
     "metadata": {},
     "output_type": "execute_result"
    }
   ],
   "source": [
    "my_clf.score(X_test, y_test)"
   ]
  },
  {
   "cell_type": "markdown",
   "metadata": {},
   "source": [
    "Задание 5"
   ]
  },
  {
   "cell_type": "code",
   "execution_count": 37,
   "metadata": {},
   "outputs": [],
   "source": [
    "# seaborn -- для различной красивой визуализации.\n",
    "# matplotlib -- для работы с графиками.\n",
    "# train_test_split -- для разбиения выборки на трейн и тест.\n",
    "# Pipeline (from sklearn.pipeline import Pipeline) -- для задания цепочки каких-то процессов.\n",
    "                                                    # Удобно, когда надо часто прогонять одинаковые процессы.\n",
    "# StandardScaler (from sklearn.preprocessing import StandardScaler) -- станартизация данных. (a-a.mean())/a.std().\n",
    "# ClassifierMixin -- Класс Mixin для всех классификаторов в scikit-learn.\n",
    "# NeighborsBase -- Base класс для nearest neighbors estimators.\n",
    "# KNeighborsMixin -- Mixin класс для поиска k соседей.\n",
    "# SupervisedIntegerMixin -- используется для \"смешивания\" (\"mix in\") fit методов."
   ]
  }
 ],
 "metadata": {
  "kernelspec": {
   "display_name": "Python 3",
   "language": "python",
   "name": "python3"
  },
  "language_info": {
   "codemirror_mode": {
    "name": "ipython",
    "version": 3
   },
   "file_extension": ".py",
   "mimetype": "text/x-python",
   "name": "python",
   "nbconvert_exporter": "python",
   "pygments_lexer": "ipython3",
   "version": "3.6.6"
  }
 },
 "nbformat": 4,
 "nbformat_minor": 2
}
